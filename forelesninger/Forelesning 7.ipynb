{
 "cells": [
  {
   "cell_type": "markdown",
   "id": "fbd74157-ef79-4597-9acb-d80b7adc2b0e",
   "metadata": {
    "tags": []
   },
   "source": [
    "---\n",
    "title: \"Forelesning 7 - Tallfesting av virkninger og beregning av samfunnsøkonomisk lønnsomhet\"\n",
    "format: \n",
    "  html:\n",
    "    code-fold: true\n",
    "---"
   ]
  },
  {
   "cell_type": "markdown",
   "id": "bfad18a1-feb5-44b5-955a-93518fbe0cdc",
   "metadata": {
    "tags": []
   },
   "source": [
    "# Framgangsmåte for å vurdere virkninger\n",
    "\n",
    "![Samfunnsøkonomisk verdi](img/samfokverdi.jpg)\n"
   ]
  },
  {
   "cell_type": "markdown",
   "id": "cc4643ca-797d-4544-8948-de113330b2de",
   "metadata": {},
   "source": [
    "* I en nytte-kostnadsanalyse verdsettes alle positive og negative virkninger av et tiltak i kroner så langt det lar seg gjøre\n",
    "* Dersom betalingsvilligheten for alle tiltakets nyttevirkninger er større enn summen av kostnadene, defineres tiltaket som samfunnsøkonomisk lønnsomt.\n",
    "* Kostnadene ved et prosjekt skal prinsipielt gjenspeile verdien av det en må gi opp av andre ting (alternativkostnad)\n",
    "* Nytten skal gjenspeile hvor mye en er villig til å betale (folks samlede betalingsvillighet)\n",
    "* flest mulig virkninger fastsettes i kroner"
   ]
  },
  {
   "cell_type": "markdown",
   "id": "2d20ece5-5ef0-4b15-a89a-ecbda010d596",
   "metadata": {},
   "source": [
    "# Finn kvanta for å tallfeste virkningene"
   ]
  },
  {
   "cell_type": "markdown",
   "id": "0a5653ed-3bd4-40e3-94dc-134be1f94d5b",
   "metadata": {
    "tags": []
   },
   "source": [
    "* Hvor mange blir berørt\n",
    "* Påvirkning per berørt"
   ]
  },
  {
   "cell_type": "markdown",
   "id": "e7d42593-da9e-433e-ba84-85de3530a4b1",
   "metadata": {},
   "source": [
    "## Metoder for å finne virkninger:\n",
    "* Estimere virkninger med empiriske data\n",
    "* Randomiserte kontrollerte forsøk\n",
    "* Naturlige eksperimenter\n",
    "* Lab-eksperimenter\n",
    "* Generell empirisk og teroretisk kunnskap\n",
    "\n"
   ]
  },
  {
   "cell_type": "markdown",
   "id": "ee3d07df-2ff6-422a-a324-560515995e01",
   "metadata": {},
   "source": [
    "# Enhetsverdi\n",
    "\n",
    "## Markedspriser\n",
    "* Lønn\n",
    "* Priser varer og tjenester\n",
    "\n",
    "## Finne Skyggekostnad når det ikke finnes marekdspris\n",
    "* Reallønn(lønn etter skatt) brueks som tidskostnad\n",
    "* Kvotekostnad brukes til kostnad ved klimagassutslipp\n"
   ]
  },
  {
   "cell_type": "markdown",
   "id": "8dec0241-2b84-4c59-973c-989d1324831a",
   "metadata": {},
   "source": [
    "# Ikke prissatte virkninger\n",
    "* verdimatrisemetoden"
   ]
  },
  {
   "cell_type": "markdown",
   "id": "032ccb46-fdd7-49f5-bf8c-2e635b74c044",
   "metadata": {
    "tags": []
   },
   "source": [
    "|Kvantum / Enhetsverdi | Liten |Middels |Høy|\n",
    "|----------------------|-------|--------|----|\n",
    "|Stort negativt                    |Middels negativ    |Stor negativ       |Meget stor negativ\n",
    "|Middels negativt                  |Liten negativ      |Middels negativ    |Stor negativ\n",
    "|Lite negativt                     |Ubetydelig/ingen   |Liten negativ      |Middels negativ\n",
    "|Verken positivt eller negativt    |Ubetydelig/ingen   |Ubetydelig/ingen   |Ubetydelig/ingen\n",
    "|Lite positivt                     |Ubetydelig/ingen   |Liten positiv      |Middels positiv\n",
    "|Middels positivt                  |Liten positiv      |Middels positiv    |Stor positiv\n",
    "|Stort positivt                    |Middels positiv    |Stor positiv       |Meget stor positiv\n"
   ]
  },
  {
   "cell_type": "markdown",
   "id": "4cd8a980-e5ac-42d5-a1a2-c7cf920d1849",
   "metadata": {},
   "source": [
    "# Vurder forventningsverdier"
   ]
  },
  {
   "cell_type": "markdown",
   "id": "1ddb92a8-7e38-4174-86b3-b180c86692ef",
   "metadata": {
    "tags": []
   },
   "source": [
    "* Summen av Sannsuynlighet * kostnad"
   ]
  },
  {
   "cell_type": "markdown",
   "id": "362bd6bb-145e-4096-a1f4-09737106d770",
   "metadata": {
    "tags": []
   },
   "source": [
    "# Vurdere samfunnsøkonomisk lønnsomhet"
   ]
  },
  {
   "cell_type": "markdown",
   "id": "90bd8bd6-2461-411c-bd52-4bf29b860508",
   "metadata": {},
   "source": [
    "1. Bruk nåverdimetoden til å sammenstille prissatte virkninger og rangere tiltakene\n",
    "2. Bruk verdimatrisemetoden til å sammenstille ikke-prissatte virkninger og vurdere bidraget til lønnsomheten\n",
    "3. Ranger tiltakene basert på prissatte og ikke-prissatte virkninger"
   ]
  },
  {
   "cell_type": "markdown",
   "id": "91036bc4-d643-48bb-9cae-0a501d9f26ba",
   "metadata": {},
   "source": [
    "Beregn netto nåverdi"
   ]
  },
  {
   "cell_type": "code",
   "execution_count": null,
   "id": "85c79791-09bf-4343-a0a7-d574d31970ee",
   "metadata": {},
   "outputs": [],
   "source": []
  }
 ],
 "metadata": {
  "kernelspec": {
   "display_name": "Python 3 (ipykernel)",
   "language": "python",
   "name": "python3"
  },
  "language_info": {
   "codemirror_mode": {
    "name": "ipython",
    "version": 3
   },
   "file_extension": ".py",
   "mimetype": "text/x-python",
   "name": "python",
   "nbconvert_exporter": "python",
   "pygments_lexer": "ipython3",
   "version": "3.11.5"
  }
 },
 "nbformat": 4,
 "nbformat_minor": 5
}
